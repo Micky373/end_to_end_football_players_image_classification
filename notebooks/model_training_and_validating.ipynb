{
 "cells": [
  {
   "cell_type": "code",
   "execution_count": 10,
   "id": "0364ec94",
   "metadata": {},
   "outputs": [],
   "source": [
    "import os\n",
    "import numpy as np\n",
    "import pandas as pd\n",
    "import pywt\n",
    "import cv2\n",
    "import matplotlib.pyplot as plt\n",
    "import seaborn as sn\n",
    "import joblib\n",
    "import json\n",
    "\n",
    "import warnings\n",
    "\n",
    "warnings.filterwarnings('ignore')\n",
    "\n",
    "from sklearn.svm import SVC\n",
    "from sklearn.ensemble import RandomForestClassifier\n",
    "from sklearn.linear_model import LogisticRegression\n",
    "from sklearn.preprocessing import StandardScaler\n",
    "from sklearn.model_selection import train_test_split, GridSearchCV\n",
    "from sklearn.pipeline import Pipeline, make_pipeline\n",
    "from sklearn.metrics import classification_report, confusion_matrix"
   ]
  },
  {
   "cell_type": "code",
   "execution_count": 11,
   "id": "2d757c7f",
   "metadata": {},
   "outputs": [
    {
     "name": "stdout",
     "output_type": "stream",
     "text": [
      "cristiano_ronaldo_0.png   cristiano_ronaldo_20.png  cristiano_ronaldo_32.png\r\n",
      "cristiano_ronaldo_10.png  cristiano_ronaldo_21.png  cristiano_ronaldo_33.png\r\n",
      "cristiano_ronaldo_11.png  cristiano_ronaldo_22.png  cristiano_ronaldo_34.png\r\n",
      "cristiano_ronaldo_12.png  cristiano_ronaldo_23.png  cristiano_ronaldo_35.png\r\n",
      "cristiano_ronaldo_13.png  cristiano_ronaldo_24.png  cristiano_ronaldo_3.png\r\n",
      "cristiano_ronaldo_15.png  cristiano_ronaldo_25.png  cristiano_ronaldo_5.png\r\n",
      "cristiano_ronaldo_16.png  cristiano_ronaldo_26.png  cristiano_ronaldo_6.png\r\n",
      "cristiano_ronaldo_17.png  cristiano_ronaldo_27.png  cristiano_ronaldo_7.png\r\n",
      "cristiano_ronaldo_18.png  cristiano_ronaldo_28.png  cristiano_ronaldo_8.png\r\n",
      "cristiano_ronaldo_19.png  cristiano_ronaldo_2.png   cristiano_ronaldo_9.png\r\n",
      "cristiano_ronaldo_1.png   cristiano_ronaldo_31.png\r\n"
     ]
    }
   ],
   "source": [
    "!ls ../data/player_images/cristiano_ronaldo/cropped"
   ]
  },
  {
   "cell_type": "code",
   "execution_count": 12,
   "id": "316bca68",
   "metadata": {},
   "outputs": [],
   "source": [
    "player_file_name_dict = {\n",
    "    'cristiano_ronaldo':[],\n",
    "    'lionel_messi': [],\n",
    "    'patrick_vieira':[],\n",
    "    'ronaldinho': [],\n",
    "    'thierry_henry': []\n",
    "}"
   ]
  },
  {
   "cell_type": "code",
   "execution_count": 13,
   "id": "e2b1d5e0",
   "metadata": {},
   "outputs": [],
   "source": [
    "folder_path = '../data/player_images/'\n",
    "for player in os.listdir(folder_path):\n",
    "    for file in os.listdir(folder_path + player):\n",
    "        if file == 'cropped':\n",
    "            for image in os.listdir(folder_path + player + '/cropped/'):\n",
    "                player_file_name_dict[player].append(folder_path + player + '/cropped/' + image)\n",
    "        else: continue"
   ]
  },
  {
   "cell_type": "code",
   "execution_count": 14,
   "id": "d7fe6efa",
   "metadata": {},
   "outputs": [
    {
     "data": {
      "text/plain": [
       "{'cristiano_ronaldo': ['../data/player_images/cristiano_ronaldo/cropped/cristiano_ronaldo_7.png',\n",
       "  '../data/player_images/cristiano_ronaldo/cropped/cristiano_ronaldo_23.png',\n",
       "  '../data/player_images/cristiano_ronaldo/cropped/cristiano_ronaldo_22.png',\n",
       "  '../data/player_images/cristiano_ronaldo/cropped/cristiano_ronaldo_16.png',\n",
       "  '../data/player_images/cristiano_ronaldo/cropped/cristiano_ronaldo_15.png',\n",
       "  '../data/player_images/cristiano_ronaldo/cropped/cristiano_ronaldo_33.png',\n",
       "  '../data/player_images/cristiano_ronaldo/cropped/cristiano_ronaldo_9.png',\n",
       "  '../data/player_images/cristiano_ronaldo/cropped/cristiano_ronaldo_34.png',\n",
       "  '../data/player_images/cristiano_ronaldo/cropped/cristiano_ronaldo_8.png',\n",
       "  '../data/player_images/cristiano_ronaldo/cropped/cristiano_ronaldo_12.png',\n",
       "  '../data/player_images/cristiano_ronaldo/cropped/cristiano_ronaldo_18.png',\n",
       "  '../data/player_images/cristiano_ronaldo/cropped/cristiano_ronaldo_32.png',\n",
       "  '../data/player_images/cristiano_ronaldo/cropped/cristiano_ronaldo_35.png',\n",
       "  '../data/player_images/cristiano_ronaldo/cropped/cristiano_ronaldo_21.png',\n",
       "  '../data/player_images/cristiano_ronaldo/cropped/cristiano_ronaldo_6.png',\n",
       "  '../data/player_images/cristiano_ronaldo/cropped/cristiano_ronaldo_0.png',\n",
       "  '../data/player_images/cristiano_ronaldo/cropped/cristiano_ronaldo_3.png',\n",
       "  '../data/player_images/cristiano_ronaldo/cropped/cristiano_ronaldo_5.png',\n",
       "  '../data/player_images/cristiano_ronaldo/cropped/cristiano_ronaldo_26.png',\n",
       "  '../data/player_images/cristiano_ronaldo/cropped/cristiano_ronaldo_27.png',\n",
       "  '../data/player_images/cristiano_ronaldo/cropped/cristiano_ronaldo_2.png',\n",
       "  '../data/player_images/cristiano_ronaldo/cropped/cristiano_ronaldo_31.png',\n",
       "  '../data/player_images/cristiano_ronaldo/cropped/cristiano_ronaldo_10.png',\n",
       "  '../data/player_images/cristiano_ronaldo/cropped/cristiano_ronaldo_19.png',\n",
       "  '../data/player_images/cristiano_ronaldo/cropped/cristiano_ronaldo_13.png',\n",
       "  '../data/player_images/cristiano_ronaldo/cropped/cristiano_ronaldo_1.png',\n",
       "  '../data/player_images/cristiano_ronaldo/cropped/cristiano_ronaldo_11.png',\n",
       "  '../data/player_images/cristiano_ronaldo/cropped/cristiano_ronaldo_25.png',\n",
       "  '../data/player_images/cristiano_ronaldo/cropped/cristiano_ronaldo_28.png',\n",
       "  '../data/player_images/cristiano_ronaldo/cropped/cristiano_ronaldo_17.png',\n",
       "  '../data/player_images/cristiano_ronaldo/cropped/cristiano_ronaldo_24.png',\n",
       "  '../data/player_images/cristiano_ronaldo/cropped/cristiano_ronaldo_20.png'],\n",
       " 'lionel_messi': ['../data/player_images/lionel_messi/cropped/lionel_messi_7.png',\n",
       "  '../data/player_images/lionel_messi/cropped/lionel_messi_15.png',\n",
       "  '../data/player_images/lionel_messi/cropped/lionel_messi_22.png',\n",
       "  '../data/player_images/lionel_messi/cropped/lionel_messi_12.png',\n",
       "  '../data/player_images/lionel_messi/cropped/lionel_messi_37.png',\n",
       "  '../data/player_images/lionel_messi/cropped/lionel_messi_39.png',\n",
       "  '../data/player_images/lionel_messi/cropped/lionel_messi_38.png',\n",
       "  '../data/player_images/lionel_messi/cropped/lionel_messi_5.png',\n",
       "  '../data/player_images/lionel_messi/cropped/lionel_messi_36.png',\n",
       "  '../data/player_images/lionel_messi/cropped/lionel_messi_8.png',\n",
       "  '../data/player_images/lionel_messi/cropped/lionel_messi_18.png',\n",
       "  '../data/player_images/lionel_messi/cropped/lionel_messi_26.png',\n",
       "  '../data/player_images/lionel_messi/cropped/lionel_messi_10.png',\n",
       "  '../data/player_images/lionel_messi/cropped/lionel_messi_25.png',\n",
       "  '../data/player_images/lionel_messi/cropped/lionel_messi_9.png',\n",
       "  '../data/player_images/lionel_messi/cropped/lionel_messi_29.png',\n",
       "  '../data/player_images/lionel_messi/cropped/lionel_messi_40.png',\n",
       "  '../data/player_images/lionel_messi/cropped/lionel_messi_17.png',\n",
       "  '../data/player_images/lionel_messi/cropped/lionel_messi_31.png',\n",
       "  '../data/player_images/lionel_messi/cropped/lionel_messi_3.png',\n",
       "  '../data/player_images/lionel_messi/cropped/lionel_messi_35.png',\n",
       "  '../data/player_images/lionel_messi/cropped/lionel_messi_24.png',\n",
       "  '../data/player_images/lionel_messi/cropped/lionel_messi_42.png',\n",
       "  '../data/player_images/lionel_messi/cropped/lionel_messi_28.png',\n",
       "  '../data/player_images/lionel_messi/cropped/lionel_messi_30.png',\n",
       "  '../data/player_images/lionel_messi/cropped/lionel_messi_27.png',\n",
       "  '../data/player_images/lionel_messi/cropped/lionel_messi_21.png',\n",
       "  '../data/player_images/lionel_messi/cropped/lionel_messi_4.png',\n",
       "  '../data/player_images/lionel_messi/cropped/lionel_messi_2.png',\n",
       "  '../data/player_images/lionel_messi/cropped/lionel_messi_20.png',\n",
       "  '../data/player_images/lionel_messi/cropped/lionel_messi_43.png',\n",
       "  '../data/player_images/lionel_messi/cropped/lionel_messi_41.png',\n",
       "  '../data/player_images/lionel_messi/cropped/lionel_messi_14.png',\n",
       "  '../data/player_images/lionel_messi/cropped/lionel_messi_44.png',\n",
       "  '../data/player_images/lionel_messi/cropped/lionel_messi_45.png',\n",
       "  '../data/player_images/lionel_messi/cropped/lionel_messi_6.png',\n",
       "  '../data/player_images/lionel_messi/cropped/lionel_messi_32.png',\n",
       "  '../data/player_images/lionel_messi/cropped/lionel_messi_0.png',\n",
       "  '../data/player_images/lionel_messi/cropped/lionel_messi_11.png',\n",
       "  '../data/player_images/lionel_messi/cropped/lionel_messi_33.png',\n",
       "  '../data/player_images/lionel_messi/cropped/lionel_messi_19.png',\n",
       "  '../data/player_images/lionel_messi/cropped/lionel_messi_16.png'],\n",
       " 'patrick_vieira': ['../data/player_images/patrick_vieira/cropped/patrick_vieira_10.png',\n",
       "  '../data/player_images/patrick_vieira/cropped/patrick_vieira_2.png',\n",
       "  '../data/player_images/patrick_vieira/cropped/patrick_vieira_16.png',\n",
       "  '../data/player_images/patrick_vieira/cropped/patrick_vieira_18.png',\n",
       "  '../data/player_images/patrick_vieira/cropped/patrick_vieira_1.png',\n",
       "  '../data/player_images/patrick_vieira/cropped/patrick_vieira_0.png',\n",
       "  '../data/player_images/patrick_vieira/cropped/patrick_vieira_6.png',\n",
       "  '../data/player_images/patrick_vieira/cropped/patrick_vieira_14.png',\n",
       "  '../data/player_images/patrick_vieira/cropped/patrick_vieira_8.png',\n",
       "  '../data/player_images/patrick_vieira/cropped/patrick_vieira_12.png',\n",
       "  '../data/player_images/patrick_vieira/cropped/patrick_vieira_17.png',\n",
       "  '../data/player_images/patrick_vieira/cropped/patrick_vieira_11.png',\n",
       "  '../data/player_images/patrick_vieira/cropped/patrick_vieira_4.png',\n",
       "  '../data/player_images/patrick_vieira/cropped/patrick_vieira_7.png',\n",
       "  '../data/player_images/patrick_vieira/cropped/patrick_vieira_3.png',\n",
       "  '../data/player_images/patrick_vieira/cropped/patrick_vieira_13.png',\n",
       "  '../data/player_images/patrick_vieira/cropped/patrick_vieira_9.png'],\n",
       " 'ronaldinho': ['../data/player_images/ronaldinho/cropped/ronaldinho_20.png',\n",
       "  '../data/player_images/ronaldinho/cropped/ronaldinho_14.png',\n",
       "  '../data/player_images/ronaldinho/cropped/ronaldinho_13.png',\n",
       "  '../data/player_images/ronaldinho/cropped/ronaldinho_17.png',\n",
       "  '../data/player_images/ronaldinho/cropped/ronaldinho_3.png',\n",
       "  '../data/player_images/ronaldinho/cropped/ronaldinho_1.png',\n",
       "  '../data/player_images/ronaldinho/cropped/ronaldinho_16.png',\n",
       "  '../data/player_images/ronaldinho/cropped/ronaldinho_32.png',\n",
       "  '../data/player_images/ronaldinho/cropped/ronaldinho_39.png',\n",
       "  '../data/player_images/ronaldinho/cropped/ronaldinho_18.png',\n",
       "  '../data/player_images/ronaldinho/cropped/ronaldinho_23.png',\n",
       "  '../data/player_images/ronaldinho/cropped/ronaldinho_38.png',\n",
       "  '../data/player_images/ronaldinho/cropped/ronaldinho_7.png',\n",
       "  '../data/player_images/ronaldinho/cropped/ronaldinho_30.png',\n",
       "  '../data/player_images/ronaldinho/cropped/ronaldinho_24.png',\n",
       "  '../data/player_images/ronaldinho/cropped/ronaldinho_21.png',\n",
       "  '../data/player_images/ronaldinho/cropped/ronaldinho_5.png',\n",
       "  '../data/player_images/ronaldinho/cropped/ronaldinho_28.png',\n",
       "  '../data/player_images/ronaldinho/cropped/ronaldinho_37.png',\n",
       "  '../data/player_images/ronaldinho/cropped/ronaldinho_41.png',\n",
       "  '../data/player_images/ronaldinho/cropped/ronaldinho_19.png',\n",
       "  '../data/player_images/ronaldinho/cropped/ronaldinho_11.png',\n",
       "  '../data/player_images/ronaldinho/cropped/ronaldinho_12.png',\n",
       "  '../data/player_images/ronaldinho/cropped/ronaldinho_10.png',\n",
       "  '../data/player_images/ronaldinho/cropped/ronaldinho_2.png',\n",
       "  '../data/player_images/ronaldinho/cropped/ronaldinho_4.png',\n",
       "  '../data/player_images/ronaldinho/cropped/ronaldinho_8.png',\n",
       "  '../data/player_images/ronaldinho/cropped/ronaldinho_40.png',\n",
       "  '../data/player_images/ronaldinho/cropped/ronaldinho_0.png',\n",
       "  '../data/player_images/ronaldinho/cropped/ronaldinho_35.png',\n",
       "  '../data/player_images/ronaldinho/cropped/ronaldinho_22.png',\n",
       "  '../data/player_images/ronaldinho/cropped/ronaldinho_29.png',\n",
       "  '../data/player_images/ronaldinho/cropped/ronaldinho_9.png',\n",
       "  '../data/player_images/ronaldinho/cropped/ronaldinho_27.png',\n",
       "  '../data/player_images/ronaldinho/cropped/ronaldinho_15.png',\n",
       "  '../data/player_images/ronaldinho/cropped/ronaldinho_31.png',\n",
       "  '../data/player_images/ronaldinho/cropped/ronaldinho_34.png',\n",
       "  '../data/player_images/ronaldinho/cropped/ronaldinho_6.png',\n",
       "  '../data/player_images/ronaldinho/cropped/ronaldinho_33.png',\n",
       "  '../data/player_images/ronaldinho/cropped/ronaldinho_25.png',\n",
       "  '../data/player_images/ronaldinho/cropped/ronaldinho_36.png'],\n",
       " 'thierry_henry': ['../data/player_images/thierry_henry/cropped/thierry_henry_28.png',\n",
       "  '../data/player_images/thierry_henry/cropped/thierry_henry_6.png',\n",
       "  '../data/player_images/thierry_henry/cropped/thierry_henry_18.png',\n",
       "  '../data/player_images/thierry_henry/cropped/thierry_henry_22.png',\n",
       "  '../data/player_images/thierry_henry/cropped/thierry_henry_19.png',\n",
       "  '../data/player_images/thierry_henry/cropped/thierry_henry_1.png',\n",
       "  '../data/player_images/thierry_henry/cropped/thierry_henry_30.png',\n",
       "  '../data/player_images/thierry_henry/cropped/thierry_henry_2.png',\n",
       "  '../data/player_images/thierry_henry/cropped/thierry_henry_9.png',\n",
       "  '../data/player_images/thierry_henry/cropped/thierry_henry_23.png',\n",
       "  '../data/player_images/thierry_henry/cropped/thierry_henry_15.png',\n",
       "  '../data/player_images/thierry_henry/cropped/thierry_henry_0.png',\n",
       "  '../data/player_images/thierry_henry/cropped/thierry_henry_26.png',\n",
       "  '../data/player_images/thierry_henry/cropped/thierry_henry_12.png',\n",
       "  '../data/player_images/thierry_henry/cropped/thierry_henry_8.png',\n",
       "  '../data/player_images/thierry_henry/cropped/thierry_henry_25.png',\n",
       "  '../data/player_images/thierry_henry/cropped/thierry_henry_7.png',\n",
       "  '../data/player_images/thierry_henry/cropped/thierry_henry_14.png',\n",
       "  '../data/player_images/thierry_henry/cropped/thierry_henry_29.png',\n",
       "  '../data/player_images/thierry_henry/cropped/thierry_henry_27.png',\n",
       "  '../data/player_images/thierry_henry/cropped/thierry_henry_13.png',\n",
       "  '../data/player_images/thierry_henry/cropped/thierry_henry_17.png',\n",
       "  '../data/player_images/thierry_henry/cropped/thierry_henry_24.png',\n",
       "  '../data/player_images/thierry_henry/cropped/thierry_henry_10.png',\n",
       "  '../data/player_images/thierry_henry/cropped/thierry_henry_20.png',\n",
       "  '../data/player_images/thierry_henry/cropped/thierry_henry_3.png',\n",
       "  '../data/player_images/thierry_henry/cropped/thierry_henry_4.png']}"
      ]
     },
     "execution_count": 14,
     "metadata": {},
     "output_type": "execute_result"
    }
   ],
   "source": [
    "player_file_name_dict"
   ]
  },
  {
   "cell_type": "code",
   "execution_count": 15,
   "id": "03db6150",
   "metadata": {},
   "outputs": [],
   "source": [
    "def w2d (img, mode = 'haar', level = 1):\n",
    "    \n",
    "    im_array = img\n",
    "    \n",
    "    im_array = cv2.cvtColor(im_array,cv2.COLOR_BGR2GRAY)\n",
    "    \n",
    "    im_array = np.float32(im_array)\n",
    "    \n",
    "    im_array /= 255\n",
    "    \n",
    "    coeffs = pywt.wavedec2(im_array,mode,level)\n",
    "    \n",
    "    coeffs_H = list(coeffs)\n",
    "    coeffs_H[0] *= 0\n",
    "    \n",
    "    im_array_H = pywt.waverec2(coeffs_H,mode)\n",
    "    im_array_H *= 255\n",
    "    im_array_H = np.uint8(im_array_H)\n",
    "    \n",
    "    return im_array_H"
   ]
  },
  {
   "cell_type": "code",
   "execution_count": 16,
   "id": "f8976238",
   "metadata": {},
   "outputs": [
    {
     "data": {
      "text/plain": [
       "<matplotlib.image.AxesImage at 0x7f7c2ab720a0>"
      ]
     },
     "execution_count": 16,
     "metadata": {},
     "output_type": "execute_result"
    },
    {
     "data": {
      "image/png": "[encoded data removed]",
      "text/plain": [
       "<Figure size 432x288 with 1 Axes>"
      ]
     },
     "metadata": {
      "needs_background": "light"
     },
     "output_type": "display_data"
    }
   ],
   "source": [
    "image = cv2.imread(player_file_name_dict['patrick_vieira'][2])\n",
    "plt.imshow(image)"
   ]
  },
  {
   "cell_type": "code",
   "execution_count": 17,
   "id": "57f25b3a",
   "metadata": {},
   "outputs": [
    {
     "data": {
      "text/plain": [
       "<matplotlib.image.AxesImage at 0x7f7c2aad8d00>"
      ]
     },
     "execution_count": 17,
     "metadata": {},
     "output_type": "execute_result"
    },
    {
     "data": {
      "image/png": "[encoded data removed]",
      "text/plain": [
       "<Figure size 432x288 with 1 Axes>"
      ]
     },
     "metadata": {
      "needs_background": "light"
     },
     "output_type": "display_data"
    }
   ],
   "source": [
    "im_har = w2d(image,'db1',5)\n",
    "plt.imshow(im_har,cmap = 'gray')"
   ]
  },
  {
   "cell_type": "code",
   "execution_count": 18,
   "id": "98d77c3c",
   "metadata": {},
   "outputs": [
    {
     "data": {
      "text/plain": [
       "{'cristiano_ronaldo': 0,\n",
       " 'lionel_messi': 1,\n",
       " 'patrick_vieira': 2,\n",
       " 'ronaldinho': 3,\n",
       " 'thierry_henry': 4}"
      ]
     },
     "execution_count": 18,
     "metadata": {},
     "output_type": "execute_result"
    }
   ],
   "source": [
    "player_labels = {}\n",
    "i = 0\n",
    "for player,_ in player_file_name_dict.items():\n",
    "    \n",
    "    player_labels[player] = i\n",
    "    i += 1 \n",
    "    \n",
    "player_labels"
   ]
  },
  {
   "cell_type": "code",
   "execution_count": 19,
   "id": "f5fb6887",
   "metadata": {},
   "outputs": [],
   "source": [
    "X = []\n",
    "y = []\n",
    "\n",
    "for player, image_path in player_file_name_dict.items():\n",
    "    \n",
    "    for image in image_path:\n",
    "        \n",
    "        img = cv2.imread(image)\n",
    "        \n",
    "        scaled_image = cv2.resize(img,(32,32))\n",
    "        \n",
    "        img_har = w2d(img,'db1',5)\n",
    "        \n",
    "        scaled_image_har = cv2.resize(img_har,(32,32))\n",
    "        \n",
    "        combined_img = np.vstack((scaled_image.reshape(32*32*3,1),scaled_image_har.reshape(32*32,1)))\n",
    "        \n",
    "        X.append(combined_img)\n",
    "        \n",
    "        y.append(player_labels[player])"
   ]
  },
  {
   "cell_type": "code",
   "execution_count": 20,
   "id": "ed9e87bc",
   "metadata": {},
   "outputs": [
    {
     "data": {
      "text/plain": [
       "(159, 4096)"
      ]
     },
     "execution_count": 20,
     "metadata": {},
     "output_type": "execute_result"
    }
   ],
   "source": [
    "len(X),len(X[0])"
   ]
  },
  {
   "cell_type": "code",
   "execution_count": 21,
   "id": "09b12760",
   "metadata": {},
   "outputs": [
    {
     "data": {
      "text/plain": [
       "159"
      ]
     },
     "execution_count": 21,
     "metadata": {},
     "output_type": "execute_result"
    }
   ],
   "source": [
    "len(y)"
   ]
  },
  {
   "cell_type": "code",
   "execution_count": 22,
   "id": "eb72d5c9",
   "metadata": {},
   "outputs": [
    {
     "name": "stdout",
     "output_type": "stream",
     "text": [
      "(159, 4096) (159,)\n"
     ]
    }
   ],
   "source": [
    "X = np.array(X)\n",
    "X = X.reshape(len(X),len(X[0])).astype(float)\n",
    "y = np.array(y)\n",
    "y = y.reshape(len(y),)\n",
    "\n",
    "print(X.shape,y.shape)"
   ]
  },
  {
   "cell_type": "code",
   "execution_count": 23,
   "id": "289e8fcf",
   "metadata": {},
   "outputs": [
    {
     "data": {
      "text/plain": [
       "array([[ 20.,  23.,  27., ..., 182., 181., 181.],\n",
       "       [ 56.,  68.,  80., ..., 243., 243., 238.],\n",
       "       [ 38.,  40.,  58., ..., 202., 215., 215.],\n",
       "       ...,\n",
       "       [ 89.,  14.,  58., ..., 237., 237., 237.],\n",
       "       [  6.,  48.,  71., ..., 226., 213., 242.],\n",
       "       [  1.,   1.,   1., ..., 233., 234., 234.]])"
      ]
     },
     "execution_count": 23,
     "metadata": {},
     "output_type": "execute_result"
    }
   ],
   "source": [
    "X"
   ]
  },
  {
   "cell_type": "code",
   "execution_count": 24,
   "id": "c9b67f3c",
   "metadata": {},
   "outputs": [
    {
     "data": {
      "text/plain": [
       "array([0, 0, 0, 0, 0, 0, 0, 0, 0, 0, 0, 0, 0, 0, 0, 0, 0, 0, 0, 0, 0, 0,\n",
       "       0, 0, 0, 0, 0, 0, 0, 0, 0, 0, 1, 1, 1, 1, 1, 1, 1, 1, 1, 1, 1, 1,\n",
       "       1, 1, 1, 1, 1, 1, 1, 1, 1, 1, 1, 1, 1, 1, 1, 1, 1, 1, 1, 1, 1, 1,\n",
       "       1, 1, 1, 1, 1, 1, 1, 1, 2, 2, 2, 2, 2, 2, 2, 2, 2, 2, 2, 2, 2, 2,\n",
       "       2, 2, 2, 3, 3, 3, 3, 3, 3, 3, 3, 3, 3, 3, 3, 3, 3, 3, 3, 3, 3, 3,\n",
       "       3, 3, 3, 3, 3, 3, 3, 3, 3, 3, 3, 3, 3, 3, 3, 3, 3, 3, 3, 3, 3, 3,\n",
       "       4, 4, 4, 4, 4, 4, 4, 4, 4, 4, 4, 4, 4, 4, 4, 4, 4, 4, 4, 4, 4, 4,\n",
       "       4, 4, 4, 4, 4])"
      ]
     },
     "execution_count": 24,
     "metadata": {},
     "output_type": "execute_result"
    }
   ],
   "source": [
    "y"
   ]
  },
  {
   "cell_type": "code",
   "execution_count": 25,
   "id": "a1b13e7c",
   "metadata": {},
   "outputs": [
    {
     "data": {
      "text/plain": [
       "0.825"
      ]
     },
     "execution_count": 25,
     "metadata": {},
     "output_type": "execute_result"
    }
   ],
   "source": [
    "X_train,X_test,y_train,y_test = train_test_split(X,y,random_state = 42)\n",
    "\n",
    "pipe = Pipeline([\n",
    "    ('scaler',StandardScaler()),\n",
    "    ('svc',SVC(kernel = 'rbf', C = 10))\n",
    "])\n",
    "\n",
    "pipe.fit(X_train,y_train)\n",
    "pipe.score(X_test,y_test)"
   ]
  },
  {
   "cell_type": "code",
   "execution_count": 26,
   "id": "7b45ecf5",
   "metadata": {},
   "outputs": [
    {
     "name": "stdout",
     "output_type": "stream",
     "text": [
      "              precision    recall  f1-score   support\n",
      "\n",
      "           0       1.00      0.82      0.90        11\n",
      "           1       0.89      1.00      0.94         8\n",
      "           2       1.00      0.50      0.67         4\n",
      "           3       0.57      0.89      0.70         9\n",
      "           4       1.00      0.75      0.86         8\n",
      "\n",
      "    accuracy                           0.82        40\n",
      "   macro avg       0.89      0.79      0.81        40\n",
      "weighted avg       0.88      0.82      0.83        40\n",
      "\n"
     ]
    }
   ],
   "source": [
    "print(classification_report(y_test,pipe.predict(X_test)))"
   ]
  },
  {
   "cell_type": "code",
   "execution_count": 27,
   "id": "d1407384",
   "metadata": {},
   "outputs": [],
   "source": [
    "algos = {   \n",
    "    \n",
    "    'svm': {\n",
    "        'model': SVC(gamma = 'auto',probability = True),\n",
    "        'params': {\n",
    "            'svc__C': [1,10,100,1000],\n",
    "            'svc__kernel': ['rbf','linear']\n",
    "        } \n",
    "    },\n",
    "    \n",
    "    'random_forest': {\n",
    "        'model': RandomForestClassifier(),\n",
    "        'params': {\n",
    "            'randomforestclassifier__n_estimators': [1,5,10]\n",
    "        } \n",
    "    },\n",
    "    \n",
    "    'logistic_regression': {\n",
    "        'model': LogisticRegression(solver = 'liblinear',multi_class = 'auto'),\n",
    "        'params': {\n",
    "            'logisticregression__C': [1,5,10]\n",
    "        }\n",
    "    }\n",
    "}"
   ]
  },
  {
   "cell_type": "code",
   "execution_count": 28,
   "id": "0b8f32cd",
   "metadata": {},
   "outputs": [
    {
     "data": {
      "text/html": [
       "<div>\n",
       "<style scoped>\n",
       "    .dataframe tbody tr th:only-of-type {\n",
       "        vertical-align: middle;\n",
       "    }\n",
       "\n",
       "    .dataframe tbody tr th {\n",
       "        vertical-align: top;\n",
       "    }\n",
       "\n",
       "    .dataframe thead th {\n",
       "        text-align: right;\n",
       "    }\n",
       "</style>\n",
       "<table border=\"1\" class=\"dataframe\">\n",
       "  <thead>\n",
       "    <tr style=\"text-align: right;\">\n",
       "      <th></th>\n",
       "      <th>model</th>\n",
       "      <th>best_score</th>\n",
       "      <th>best_params</th>\n",
       "    </tr>\n",
       "  </thead>\n",
       "  <tbody>\n",
       "    <tr>\n",
       "      <th>0</th>\n",
       "      <td>svm</td>\n",
       "      <td>0.773188</td>\n",
       "      <td>{'svc__C': 1, 'svc__kernel': 'linear'}</td>\n",
       "    </tr>\n",
       "    <tr>\n",
       "      <th>1</th>\n",
       "      <td>random_forest</td>\n",
       "      <td>0.580072</td>\n",
       "      <td>{'randomforestclassifier__n_estimators': 10}</td>\n",
       "    </tr>\n",
       "    <tr>\n",
       "      <th>2</th>\n",
       "      <td>logistic_regression</td>\n",
       "      <td>0.756884</td>\n",
       "      <td>{'logisticregression__C': 1}</td>\n",
       "    </tr>\n",
       "  </tbody>\n",
       "</table>\n",
       "</div>"
      ],
      "text/plain": [
       "                 model  best_score  \\\n",
       "0                  svm    0.773188   \n",
       "1        random_forest    0.580072   \n",
       "2  logistic_regression    0.756884   \n",
       "\n",
       "                                    best_params  \n",
       "0        {'svc__C': 1, 'svc__kernel': 'linear'}  \n",
       "1  {'randomforestclassifier__n_estimators': 10}  \n",
       "2                  {'logisticregression__C': 1}  "
      ]
     },
     "execution_count": 28,
     "metadata": {},
     "output_type": "execute_result"
    }
   ],
   "source": [
    "scores = []\n",
    "best_estimators = {}\n",
    "\n",
    "for algo, model_params in algos.items():\n",
    "    \n",
    "    pipe = make_pipeline(StandardScaler(),model_params['model'])\n",
    "    cl = GridSearchCV(pipe,model_params['params'],cv=5,return_train_score = False)\n",
    "    cl.fit(X_train,y_train)\n",
    "    \n",
    "    scores.append({\n",
    "        'model': algo,\n",
    "        'best_score': cl.best_score_,\n",
    "        'best_params': cl.best_params_\n",
    "    })\n",
    "    \n",
    "    best_estimators[algo] = cl.best_estimator_\n",
    "    \n",
    "df = pd.DataFrame(scores,columns=['model','best_score','best_params'])\n",
    "df   \n"
   ]
  },
  {
   "cell_type": "code",
   "execution_count": 29,
   "id": "a9000ba6",
   "metadata": {},
   "outputs": [
    {
     "data": {
      "text/plain": [
       "{'svm': Pipeline(steps=[('standardscaler', StandardScaler()),\n",
       "                 ('svc',\n",
       "                  SVC(C=1, gamma='auto', kernel='linear', probability=True))]),\n",
       " 'random_forest': Pipeline(steps=[('standardscaler', StandardScaler()),\n",
       "                 ('randomforestclassifier',\n",
       "                  RandomForestClassifier(n_estimators=10))]),\n",
       " 'logistic_regression': Pipeline(steps=[('standardscaler', StandardScaler()),\n",
       "                 ('logisticregression',\n",
       "                  LogisticRegression(C=1, solver='liblinear'))])}"
      ]
     },
     "execution_count": 29,
     "metadata": {},
     "output_type": "execute_result"
    }
   ],
   "source": [
    "best_estimators"
   ]
  },
  {
   "cell_type": "code",
   "execution_count": 30,
   "id": "de93f88b",
   "metadata": {},
   "outputs": [
    {
     "data": {
      "text/plain": [
       "0.85"
      ]
     },
     "execution_count": 30,
     "metadata": {},
     "output_type": "execute_result"
    }
   ],
   "source": [
    "best_estimators['svm'].score(X_test,y_test)"
   ]
  },
  {
   "cell_type": "code",
   "execution_count": 31,
   "id": "fa1cd28e",
   "metadata": {},
   "outputs": [
    {
     "data": {
      "text/plain": [
       "0.625"
      ]
     },
     "execution_count": 31,
     "metadata": {},
     "output_type": "execute_result"
    }
   ],
   "source": [
    "best_estimators['random_forest'].score(X_test,y_test)"
   ]
  },
  {
   "cell_type": "code",
   "execution_count": 32,
   "id": "8821c02f",
   "metadata": {},
   "outputs": [
    {
     "data": {
      "text/plain": [
       "0.825"
      ]
     },
     "execution_count": 32,
     "metadata": {},
     "output_type": "execute_result"
    }
   ],
   "source": [
    "best_estimators['logistic_regression'].score(X_test,y_test)"
   ]
  },
  {
   "cell_type": "code",
   "execution_count": 33,
   "id": "03757c1c",
   "metadata": {},
   "outputs": [],
   "source": [
    "best_classifier = best_estimators['svm']"
   ]
  },
  {
   "cell_type": "code",
   "execution_count": 34,
   "id": "e8f5bf80",
   "metadata": {},
   "outputs": [
    {
     "data": {
      "text/plain": [
       "array([[9, 0, 0, 2, 0],\n",
       "       [0, 8, 0, 0, 0],\n",
       "       [0, 0, 4, 0, 0],\n",
       "       [0, 1, 0, 8, 0],\n",
       "       [0, 0, 0, 3, 5]])"
      ]
     },
     "execution_count": 34,
     "metadata": {},
     "output_type": "execute_result"
    }
   ],
   "source": [
    "cm = confusion_matrix(y_test,best_classifier.predict(X_test))\n",
    "cm"
   ]
  },
  {
   "cell_type": "code",
   "execution_count": 35,
   "id": "a2c30182",
   "metadata": {},
   "outputs": [
    {
     "data": {
      "text/plain": [
       "Text(69.0, 0.5, 'True')"
      ]
     },
     "execution_count": 35,
     "metadata": {},
     "output_type": "execute_result"
    },
    {
     "data": {
      "image/png": "[encoded data removed]",
      "text/plain": [
       "<Figure size 720x720 with 2 Axes>"
      ]
     },
     "metadata": {
      "needs_background": "light"
     },
     "output_type": "display_data"
    }
   ],
   "source": [
    "plt.figure(figsize = (10,10))\n",
    "sn.heatmap(cm,annot = True)\n",
    "plt.xlabel('Predicted')\n",
    "plt.ylabel('True')"
   ]
  },
  {
   "cell_type": "code",
   "execution_count": 36,
   "id": "1603647b",
   "metadata": {},
   "outputs": [
    {
     "data": {
      "text/plain": [
       "{'cristiano_ronaldo': 0,\n",
       " 'lionel_messi': 1,\n",
       " 'patrick_vieira': 2,\n",
       " 'ronaldinho': 3,\n",
       " 'thierry_henry': 4}"
      ]
     },
     "execution_count": 36,
     "metadata": {},
     "output_type": "execute_result"
    }
   ],
   "source": [
    "player_labels"
   ]
  },
  {
   "cell_type": "code",
   "execution_count": 37,
   "id": "26eaa9a9",
   "metadata": {},
   "outputs": [
    {
     "data": {
      "text/plain": [
       "['../models/best_model.pkl']"
      ]
     },
     "execution_count": 37,
     "metadata": {},
     "output_type": "execute_result"
    }
   ],
   "source": [
    "joblib.dump(best_classifier,'../models/best_model.pkl')"
   ]
  },
  {
   "cell_type": "code",
   "execution_count": 38,
   "id": "ace00136",
   "metadata": {},
   "outputs": [],
   "source": [
    "with open('../models/class_dictionary.json','w') as f:\n",
    "    f.write(json.dumps(player_labels))"
   ]
  },
  {
   "cell_type": "code",
   "execution_count": 39,
   "id": "6eef4bce",
   "metadata": {},
   "outputs": [
    {
     "name": "stdout",
     "output_type": "stream",
     "text": [
      "best_model.pkl\tclass_dictionary.json\r\n"
     ]
    }
   ],
   "source": [
    "!ls ../models"
   ]
  }
 ],
 "metadata": {
  "kernelspec": {
   "display_name": "Python 3 (ipykernel)",
   "language": "python",
   "name": "python3"
  },
  "language_info": {
   "codemirror_mode": {
    "name": "ipython",
    "version": 3
   },
   "file_extension": ".py",
   "mimetype": "text/x-python",
   "name": "python",
   "nbconvert_exporter": "python",
   "pygments_lexer": "ipython3",
   "version": "3.9.12"
  }
 },
 "nbformat": 4,
 "nbformat_minor": 5
}
