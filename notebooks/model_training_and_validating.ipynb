{
 "cells": [
  {
   "cell_type": "code",
   "execution_count": 20,
   "id": "54b7ad5d",
   "metadata": {},
   "outputs": [],
   "source": [
    "import os"
   ]
  },
  {
   "cell_type": "code",
   "execution_count": 18,
   "id": "2eb875f9",
   "metadata": {},
   "outputs": [
    {
     "name": "stdout",
     "output_type": "stream",
     "text": [
      "cristiano_ronaldo_0.png   cristiano_ronaldo_15.png  cristiano_ronaldo_6.png\r\n",
      "cristiano_ronaldo_10.png  cristiano_ronaldo_1.png   cristiano_ronaldo_7.png\r\n",
      "cristiano_ronaldo_11.png  cristiano_ronaldo_2.png   cristiano_ronaldo_8.png\r\n",
      "cristiano_ronaldo_12.png  cristiano_ronaldo_3.png   cristiano_ronaldo_9.png\r\n",
      "cristiano_ronaldo_13.png  cristiano_ronaldo_4.png\r\n",
      "cristiano_ronaldo_14.png  cristiano_ronaldo_5.png\r\n"
     ]
    }
   ],
   "source": [
    "!ls ../data/player_images/cristiano_ronaldo/cropped"
   ]
  },
  {
   "cell_type": "code",
   "execution_count": 31,
   "id": "f75ea52a",
   "metadata": {},
   "outputs": [],
   "source": [
    "player_file_name_dict = {\n",
    "    'cristiano_ronaldo':[],\n",
    "    'lionel_messi': [],\n",
    "    'patrick_vieira':[],\n",
    "    'ronaldinho': [],\n",
    "    'thierry_henry': []\n",
    "}"
   ]
  },
  {
   "cell_type": "code",
   "execution_count": 22,
   "id": "95266ca0",
   "metadata": {},
   "outputs": [
    {
     "data": {
      "text/plain": [
       "['cristiano_ronaldo_7.png',\n",
       " 'cristiano_ronaldo_15.png',\n",
       " 'cristiano_ronaldo_9.png',\n",
       " 'cristiano_ronaldo_8.png',\n",
       " 'cristiano_ronaldo_12.png',\n",
       " 'cristiano_ronaldo_6.png',\n",
       " 'cristiano_ronaldo_0.png',\n",
       " 'cristiano_ronaldo_3.png',\n",
       " 'cristiano_ronaldo_5.png',\n",
       " 'cristiano_ronaldo_2.png',\n",
       " 'cristiano_ronaldo_10.png',\n",
       " 'cristiano_ronaldo_14.png',\n",
       " 'cristiano_ronaldo_13.png',\n",
       " 'cristiano_ronaldo_1.png',\n",
       " 'cristiano_ronaldo_11.png',\n",
       " 'cristiano_ronaldo_4.png']"
      ]
     },
     "execution_count": 22,
     "metadata": {},
     "output_type": "execute_result"
    }
   ],
   "source": [
    "os.listdir('../data/player_images/cristiano_ronaldo/cropped')"
   ]
  },
  {
   "cell_type": "code",
   "execution_count": 32,
   "id": "472112a6",
   "metadata": {},
   "outputs": [],
   "source": [
    "folder_path = '../data/player_images/'\n",
    "for player in os.listdir(folder_path):\n",
    "    for file in os.listdir(folder_path + player):\n",
    "        if file == 'cropped':\n",
    "            for image in os.listdir(folder_path + player + '/cropped/'):\n",
    "                player_file_name_dict[player].append(folder_path + player + '/cropped/' + image)\n",
    "        else: continue"
   ]
  },
  {
   "cell_type": "code",
   "execution_count": 33,
   "id": "179a383e",
   "metadata": {},
   "outputs": [
    {
     "data": {
      "text/plain": [
       "{'cristiano_ronaldo': ['../data/player_images/cristiano_ronaldo/cropped/cristiano_ronaldo_7.png',\n",
       "  '../data/player_images/cristiano_ronaldo/cropped/cristiano_ronaldo_15.png',\n",
       "  '../data/player_images/cristiano_ronaldo/cropped/cristiano_ronaldo_9.png',\n",
       "  '../data/player_images/cristiano_ronaldo/cropped/cristiano_ronaldo_8.png',\n",
       "  '../data/player_images/cristiano_ronaldo/cropped/cristiano_ronaldo_12.png',\n",
       "  '../data/player_images/cristiano_ronaldo/cropped/cristiano_ronaldo_6.png',\n",
       "  '../data/player_images/cristiano_ronaldo/cropped/cristiano_ronaldo_0.png',\n",
       "  '../data/player_images/cristiano_ronaldo/cropped/cristiano_ronaldo_3.png',\n",
       "  '../data/player_images/cristiano_ronaldo/cropped/cristiano_ronaldo_5.png',\n",
       "  '../data/player_images/cristiano_ronaldo/cropped/cristiano_ronaldo_2.png',\n",
       "  '../data/player_images/cristiano_ronaldo/cropped/cristiano_ronaldo_10.png',\n",
       "  '../data/player_images/cristiano_ronaldo/cropped/cristiano_ronaldo_14.png',\n",
       "  '../data/player_images/cristiano_ronaldo/cropped/cristiano_ronaldo_13.png',\n",
       "  '../data/player_images/cristiano_ronaldo/cropped/cristiano_ronaldo_1.png',\n",
       "  '../data/player_images/cristiano_ronaldo/cropped/cristiano_ronaldo_11.png',\n",
       "  '../data/player_images/cristiano_ronaldo/cropped/cristiano_ronaldo_4.png'],\n",
       " 'lionel_messi': ['../data/player_images/lionel_messi/cropped/lionel_messi_7.png',\n",
       "  '../data/player_images/lionel_messi/cropped/lionel_messi_5.png',\n",
       "  '../data/player_images/lionel_messi/cropped/lionel_messi_8.png',\n",
       "  '../data/player_images/lionel_messi/cropped/lionel_messi_10.png',\n",
       "  '../data/player_images/lionel_messi/cropped/lionel_messi_9.png',\n",
       "  '../data/player_images/lionel_messi/cropped/lionel_messi_3.png',\n",
       "  '../data/player_images/lionel_messi/cropped/lionel_messi_1.png',\n",
       "  '../data/player_images/lionel_messi/cropped/lionel_messi_4.png',\n",
       "  '../data/player_images/lionel_messi/cropped/lionel_messi_2.png',\n",
       "  '../data/player_images/lionel_messi/cropped/lionel_messi_0.png',\n",
       "  '../data/player_images/lionel_messi/cropped/lionel_messi_11.png'],\n",
       " 'patrick_vieira': ['../data/player_images/patrick_vieira/cropped/patrick_vieira_10.png',\n",
       "  '../data/player_images/patrick_vieira/cropped/patrick_vieira_2.png',\n",
       "  '../data/player_images/patrick_vieira/cropped/patrick_vieira_15.png',\n",
       "  '../data/player_images/patrick_vieira/cropped/patrick_vieira_16.png',\n",
       "  '../data/player_images/patrick_vieira/cropped/patrick_vieira_18.png',\n",
       "  '../data/player_images/patrick_vieira/cropped/patrick_vieira_1.png',\n",
       "  '../data/player_images/patrick_vieira/cropped/patrick_vieira_20.png',\n",
       "  '../data/player_images/patrick_vieira/cropped/patrick_vieira_0.png',\n",
       "  '../data/player_images/patrick_vieira/cropped/patrick_vieira_6.png',\n",
       "  '../data/player_images/patrick_vieira/cropped/patrick_vieira_14.png',\n",
       "  '../data/player_images/patrick_vieira/cropped/patrick_vieira_8.png',\n",
       "  '../data/player_images/patrick_vieira/cropped/patrick_vieira_12.png',\n",
       "  '../data/player_images/patrick_vieira/cropped/patrick_vieira_17.png',\n",
       "  '../data/player_images/patrick_vieira/cropped/patrick_vieira_11.png',\n",
       "  '../data/player_images/patrick_vieira/cropped/patrick_vieira_4.png',\n",
       "  '../data/player_images/patrick_vieira/cropped/patrick_vieira_7.png',\n",
       "  '../data/player_images/patrick_vieira/cropped/patrick_vieira_3.png',\n",
       "  '../data/player_images/patrick_vieira/cropped/patrick_vieira_13.png',\n",
       "  '../data/player_images/patrick_vieira/cropped/patrick_vieira_9.png'],\n",
       " 'ronaldinho': ['../data/player_images/ronaldinho/cropped/ronaldinho_20.png',\n",
       "  '../data/player_images/ronaldinho/cropped/ronaldinho_14.png',\n",
       "  '../data/player_images/ronaldinho/cropped/ronaldinho_13.png',\n",
       "  '../data/player_images/ronaldinho/cropped/ronaldinho_17.png',\n",
       "  '../data/player_images/ronaldinho/cropped/ronaldinho_42.png',\n",
       "  '../data/player_images/ronaldinho/cropped/ronaldinho_3.png',\n",
       "  '../data/player_images/ronaldinho/cropped/ronaldinho_50.png',\n",
       "  '../data/player_images/ronaldinho/cropped/ronaldinho_16.png',\n",
       "  '../data/player_images/ronaldinho/cropped/ronaldinho_32.png',\n",
       "  '../data/player_images/ronaldinho/cropped/ronaldinho_39.png',\n",
       "  '../data/player_images/ronaldinho/cropped/ronaldinho_48.png',\n",
       "  '../data/player_images/ronaldinho/cropped/ronaldinho_54.png',\n",
       "  '../data/player_images/ronaldinho/cropped/ronaldinho_18.png',\n",
       "  '../data/player_images/ronaldinho/cropped/ronaldinho_23.png',\n",
       "  '../data/player_images/ronaldinho/cropped/ronaldinho_38.png',\n",
       "  '../data/player_images/ronaldinho/cropped/ronaldinho_7.png',\n",
       "  '../data/player_images/ronaldinho/cropped/ronaldinho_30.png',\n",
       "  '../data/player_images/ronaldinho/cropped/ronaldinho_24.png',\n",
       "  '../data/player_images/ronaldinho/cropped/ronaldinho_21.png',\n",
       "  '../data/player_images/ronaldinho/cropped/ronaldinho_49.png',\n",
       "  '../data/player_images/ronaldinho/cropped/ronaldinho_47.png',\n",
       "  '../data/player_images/ronaldinho/cropped/ronaldinho_5.png',\n",
       "  '../data/player_images/ronaldinho/cropped/ronaldinho_28.png',\n",
       "  '../data/player_images/ronaldinho/cropped/ronaldinho_44.png',\n",
       "  '../data/player_images/ronaldinho/cropped/ronaldinho_37.png',\n",
       "  '../data/player_images/ronaldinho/cropped/ronaldinho_41.png',\n",
       "  '../data/player_images/ronaldinho/cropped/ronaldinho_19.png',\n",
       "  '../data/player_images/ronaldinho/cropped/ronaldinho_52.png',\n",
       "  '../data/player_images/ronaldinho/cropped/ronaldinho_51.png',\n",
       "  '../data/player_images/ronaldinho/cropped/ronaldinho_11.png',\n",
       "  '../data/player_images/ronaldinho/cropped/ronaldinho_12.png',\n",
       "  '../data/player_images/ronaldinho/cropped/ronaldinho_10.png',\n",
       "  '../data/player_images/ronaldinho/cropped/ronaldinho_2.png',\n",
       "  '../data/player_images/ronaldinho/cropped/ronaldinho_4.png',\n",
       "  '../data/player_images/ronaldinho/cropped/ronaldinho_8.png',\n",
       "  '../data/player_images/ronaldinho/cropped/ronaldinho_40.png',\n",
       "  '../data/player_images/ronaldinho/cropped/ronaldinho_46.png',\n",
       "  '../data/player_images/ronaldinho/cropped/ronaldinho_0.png',\n",
       "  '../data/player_images/ronaldinho/cropped/ronaldinho_35.png',\n",
       "  '../data/player_images/ronaldinho/cropped/ronaldinho_45.png',\n",
       "  '../data/player_images/ronaldinho/cropped/ronaldinho_22.png',\n",
       "  '../data/player_images/ronaldinho/cropped/ronaldinho_29.png',\n",
       "  '../data/player_images/ronaldinho/cropped/ronaldinho_9.png',\n",
       "  '../data/player_images/ronaldinho/cropped/ronaldinho_27.png',\n",
       "  '../data/player_images/ronaldinho/cropped/ronaldinho_15.png',\n",
       "  '../data/player_images/ronaldinho/cropped/ronaldinho_26.png',\n",
       "  '../data/player_images/ronaldinho/cropped/ronaldinho_31.png',\n",
       "  '../data/player_images/ronaldinho/cropped/ronaldinho_34.png',\n",
       "  '../data/player_images/ronaldinho/cropped/ronaldinho_55.png',\n",
       "  '../data/player_images/ronaldinho/cropped/ronaldinho_53.png',\n",
       "  '../data/player_images/ronaldinho/cropped/ronaldinho_6.png',\n",
       "  '../data/player_images/ronaldinho/cropped/ronaldinho_33.png',\n",
       "  '../data/player_images/ronaldinho/cropped/ronaldinho_25.png',\n",
       "  '../data/player_images/ronaldinho/cropped/ronaldinho_43.png',\n",
       "  '../data/player_images/ronaldinho/cropped/ronaldinho_36.png'],\n",
       " 'thierry_henry': ['../data/player_images/thierry_henry/cropped/thierry_henry_28.png',\n",
       "  '../data/player_images/thierry_henry/cropped/thierry_henry_6.png',\n",
       "  '../data/player_images/thierry_henry/cropped/thierry_henry_18.png',\n",
       "  '../data/player_images/thierry_henry/cropped/thierry_henry_19.png',\n",
       "  '../data/player_images/thierry_henry/cropped/thierry_henry_34.png',\n",
       "  '../data/player_images/thierry_henry/cropped/thierry_henry_1.png',\n",
       "  '../data/player_images/thierry_henry/cropped/thierry_henry_30.png',\n",
       "  '../data/player_images/thierry_henry/cropped/thierry_henry_2.png',\n",
       "  '../data/player_images/thierry_henry/cropped/thierry_henry_31.png',\n",
       "  '../data/player_images/thierry_henry/cropped/thierry_henry_32.png',\n",
       "  '../data/player_images/thierry_henry/cropped/thierry_henry_5.png',\n",
       "  '../data/player_images/thierry_henry/cropped/thierry_henry_35.png',\n",
       "  '../data/player_images/thierry_henry/cropped/thierry_henry_9.png',\n",
       "  '../data/player_images/thierry_henry/cropped/thierry_henry_37.png',\n",
       "  '../data/player_images/thierry_henry/cropped/thierry_henry_15.png',\n",
       "  '../data/player_images/thierry_henry/cropped/thierry_henry_21.png',\n",
       "  '../data/player_images/thierry_henry/cropped/thierry_henry_26.png',\n",
       "  '../data/player_images/thierry_henry/cropped/thierry_henry_12.png',\n",
       "  '../data/player_images/thierry_henry/cropped/thierry_henry_8.png',\n",
       "  '../data/player_images/thierry_henry/cropped/thierry_henry_25.png',\n",
       "  '../data/player_images/thierry_henry/cropped/thierry_henry_7.png',\n",
       "  '../data/player_images/thierry_henry/cropped/thierry_henry_14.png',\n",
       "  '../data/player_images/thierry_henry/cropped/thierry_henry_11.png',\n",
       "  '../data/player_images/thierry_henry/cropped/thierry_henry_16.png',\n",
       "  '../data/player_images/thierry_henry/cropped/thierry_henry_36.png',\n",
       "  '../data/player_images/thierry_henry/cropped/thierry_henry_27.png',\n",
       "  '../data/player_images/thierry_henry/cropped/thierry_henry_13.png',\n",
       "  '../data/player_images/thierry_henry/cropped/thierry_henry_17.png',\n",
       "  '../data/player_images/thierry_henry/cropped/thierry_henry_24.png',\n",
       "  '../data/player_images/thierry_henry/cropped/thierry_henry_10.png',\n",
       "  '../data/player_images/thierry_henry/cropped/thierry_henry_20.png',\n",
       "  '../data/player_images/thierry_henry/cropped/thierry_henry_3.png',\n",
       "  '../data/player_images/thierry_henry/cropped/thierry_henry_33.png']}"
      ]
     },
     "execution_count": 33,
     "metadata": {},
     "output_type": "execute_result"
    }
   ],
   "source": [
    "player_file_name_dict"
   ]
  },
  {
   "cell_type": "code",
   "execution_count": null,
   "id": "dfcb851c",
   "metadata": {},
   "outputs": [],
   "source": []
  }
 ],
 "metadata": {
  "kernelspec": {
   "display_name": "Python 3 (ipykernel)",
   "language": "python",
   "name": "python3"
  },
  "language_info": {
   "codemirror_mode": {
    "name": "ipython",
    "version": 3
   },
   "file_extension": ".py",
   "mimetype": "text/x-python",
   "name": "python",
   "nbconvert_exporter": "python",
   "pygments_lexer": "ipython3",
   "version": "3.9.12"
  }
 },
 "nbformat": 4,
 "nbformat_minor": 5
}
