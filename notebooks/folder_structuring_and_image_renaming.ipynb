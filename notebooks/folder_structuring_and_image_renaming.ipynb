{
 "cells": [
  {
   "cell_type": "code",
   "execution_count": 6,
   "id": "e7395dbe",
   "metadata": {},
   "outputs": [
    {
     "name": "stdout",
     "output_type": "stream",
     "text": [
      "Requirement already satisfied: PyWavelets==0.5.2 in /home/micky/anaconda3/lib/python3.9/site-packages (0.5.2)\n",
      "Collecting opencv-python\n",
      "  Downloading opencv_python-4.6.0.66-cp36-abi3-manylinux_2_17_x86_64.manylinux2014_x86_64.whl (60.9 MB)\n",
      "\u001b[K     |████████████████████████████████| 60.9 MB 38 kB/s  eta 0:00:01\n",
      "\u001b[?25hCollecting seaborn==0.8.1\n",
      "  Downloading seaborn-0.8.1.tar.gz (178 kB)\n",
      "\u001b[K     |████████████████████████████████| 178 kB 88 kB/s eta 0:00:01\n",
      "\u001b[?25hRequirement already satisfied: numpy>=1.9.1 in /home/micky/anaconda3/lib/python3.9/site-packages (from PyWavelets==0.5.2) (1.21.5)\n",
      "Building wheels for collected packages: seaborn\n",
      "  Building wheel for seaborn (setup.py) ... \u001b[?25ldone\n",
      "\u001b[?25h  Created wheel for seaborn: filename=seaborn-0.8.1-py3-none-any.whl size=184832 sha256=0e3d769e8d25db9a7380c6cc2380add6786c65bbd0615f91c88200ae38bb092c\n",
      "  Stored in directory: /home/micky/.cache/pip/wheels/a4/54/56/3fe6b7a301785ced23749ab438731e3e4c1ba9cdb3115d7256\n",
      "Successfully built seaborn\n",
      "Installing collected packages: seaborn, opencv-python\n",
      "  Attempting uninstall: seaborn\n",
      "    Found existing installation: seaborn 0.11.2\n",
      "    Uninstalling seaborn-0.11.2:\n",
      "      Successfully uninstalled seaborn-0.11.2\n",
      "Successfully installed opencv-python-4.6.0.66 seaborn-0.8.1\n"
     ]
    }
   ],
   "source": [
    "# Installing some libraries for our image analysis\n",
    "\n",
    "! pip install PyWavelets==0.5.2 opencv-python seaborn==0.8.1"
   ]
  },
  {
   "cell_type": "code",
   "execution_count": 81,
   "id": "7965cd1c",
   "metadata": {},
   "outputs": [
    {
     "data": {
      "text/plain": [
       "['ronaldinho',\n",
       " 'lionel_messi',\n",
       " 'patrick_vieira',\n",
       " 'thierry_henry',\n",
       " 'cristiano_ronaldo']"
      ]
     },
     "execution_count": 81,
     "metadata": {},
     "output_type": "execute_result"
    }
   ],
   "source": [
    "# Getting folder names for editing the data\n",
    "\n",
    "player_folders = os.listdir('../data/player_images/')\n",
    "player_folders"
   ]
  },
  {
   "cell_type": "code",
   "execution_count": 57,
   "id": "8dc90ceb",
   "metadata": {},
   "outputs": [],
   "source": [
    "'''\n",
    "\n",
    "When downloading the images most of them has name separated by spaces,\n",
    "so I planned to change each name into more convinient names\n",
    "\n",
    "'''\n",
    "\n",
    "for player_folder in player_folders:\n",
    "    player_folder_path = os.listdir('../data/player_images/' + player_folder + '/')\n",
    "    for i,image in enumerate(player_folder_path):\n",
    "        path = '../data/player_images/' + player_folder + '/'\n",
    "        old_name = path + image\n",
    "        player_name_start_character = player_folder[0]\n",
    "        image_name = f'{player_name_start_character}_{i}'\n",
    "        extension = image.split('.')[1]\n",
    "        extension_name = f'.{extension}'\n",
    "        new_name = path + image_name + extension_name\n",
    "        os.rename(old_name,new_name)"
   ]
  },
  {
   "cell_type": "code",
   "execution_count": 68,
   "id": "164e177a",
   "metadata": {},
   "outputs": [
    {
     "name": "stdout",
     "output_type": "stream",
     "text": [
      "This are the extensions: {'jpg', 'jfif', 'png', 'jpeg', 'onefootball', 'Messi_'}\n"
     ]
    }
   ],
   "source": [
    "# Finding out all the extension and see if there are some unusual extension while downoading\n",
    "\n",
    "extensions = []\n",
    "images = os.listdir('../data/player_images/lionel_messi')\n",
    "path = '../data/player_images/lionel_messi/'\n",
    "for file in images:    \n",
    "    extensions.append(file.split('.')[1])\n",
    "distinct_extensions = set(extensions)\n",
    "print(f'This are the extensions: {distinct_extensions}')"
   ]
  },
  {
   "cell_type": "code",
   "execution_count": 72,
   "id": "f040a182",
   "metadata": {
    "collapsed": true
   },
   "outputs": [
    {
     "ename": "FileNotFoundError",
     "evalue": "[Errno 2] No such file or directory: '../data/player_images/lionel_messi/l_36.onefootball'",
     "output_type": "error",
     "traceback": [
      "\u001b[0;31m---------------------------------------------------------------------------\u001b[0m",
      "\u001b[0;31mFileNotFoundError\u001b[0m                         Traceback (most recent call last)",
      "Input \u001b[0;32mIn [72]\u001b[0m, in \u001b[0;36m<cell line: 1>\u001b[0;34m()\u001b[0m\n\u001b[1;32m      1\u001b[0m \u001b[38;5;28;01mfor\u001b[39;00m file \u001b[38;5;129;01min\u001b[39;00m images:\n\u001b[1;32m      2\u001b[0m     \u001b[38;5;28;01mif\u001b[39;00m file\u001b[38;5;241m.\u001b[39msplit(\u001b[38;5;124m'\u001b[39m\u001b[38;5;124m.\u001b[39m\u001b[38;5;124m'\u001b[39m)[\u001b[38;5;241m1\u001b[39m] \u001b[38;5;241m==\u001b[39m \u001b[38;5;124m'\u001b[39m\u001b[38;5;124monefootball\u001b[39m\u001b[38;5;124m'\u001b[39m \u001b[38;5;129;01mor\u001b[39;00m file\u001b[38;5;241m.\u001b[39msplit(\u001b[38;5;124m'\u001b[39m\u001b[38;5;124m.\u001b[39m\u001b[38;5;124m'\u001b[39m)[\u001b[38;5;241m1\u001b[39m] \u001b[38;5;241m==\u001b[39m \u001b[38;5;124m'\u001b[39m\u001b[38;5;124mMessi_\u001b[39m\u001b[38;5;124m'\u001b[39m:\n\u001b[0;32m----> 3\u001b[0m         \u001b[43mos\u001b[49m\u001b[38;5;241;43m.\u001b[39;49m\u001b[43mremove\u001b[49m\u001b[43m(\u001b[49m\u001b[43mpath\u001b[49m\u001b[43m \u001b[49m\u001b[38;5;241;43m+\u001b[39;49m\u001b[43m \u001b[49m\u001b[43mfile\u001b[49m\u001b[43m)\u001b[49m\n",
      "\u001b[0;31mFileNotFoundError\u001b[0m: [Errno 2] No such file or directory: '../data/player_images/lionel_messi/l_36.onefootball'"
     ]
    }
   ],
   "source": [
    "# As we have seen above there are bad extensions like onefootball and Messi_ so lets remove that\n",
    "\n",
    "for file in images:\n",
    "    if file.split('.')[1] == 'onefootball' or file.split('.')[1] == 'Messi_':\n",
    "        os.remove(path + file)\n"
   ]
  },
  {
   "cell_type": "code",
   "execution_count": 73,
   "id": "6f0e2e77",
   "metadata": {},
   "outputs": [
    {
     "name": "stdout",
     "output_type": "stream",
     "text": [
      "This are the extensions: {'jpg', 'png', 'jpeg'}\n"
     ]
    }
   ],
   "source": [
    "# Finding out all the extension and see if there are some unusual extension while downoading\n",
    "\n",
    "extensions = []\n",
    "images = os.listdir('../data/player_images/ronaldinho')\n",
    "path = '../data/player_images/ronaldinho/'\n",
    "for file in images:    \n",
    "    extensions.append(file.split('.')[1])\n",
    "distinct_extensions = set(extensions)\n",
    "print(f'This are the extensions: {distinct_extensions}')"
   ]
  },
  {
   "cell_type": "markdown",
   "id": "0154ed22",
   "metadata": {},
   "source": [
    "> From the above cell we can see all the images has good extension so we can keep all of them"
   ]
  },
  {
   "cell_type": "code",
   "execution_count": 74,
   "id": "2e452d86",
   "metadata": {},
   "outputs": [
    {
     "data": {
      "text/plain": [
       "{' Le Tournoi de', 'JPG', 'jpeg', 'jpg', 'png', 'webp'}"
      ]
     },
     "execution_count": 74,
     "metadata": {},
     "output_type": "execute_result"
    }
   ],
   "source": [
    "# Finding out all the extension and see if there are some unusual extension while downoading\n",
    "\n",
    "extensions = []\n",
    "images = os.listdir('../data/player_images/patrick_vieira')\n",
    "path = '../data/player_images/patrick_vieira/'\n",
    "for file in images:    \n",
    "    extensions.append(file.split('.')[1])\n",
    "distinct_extensions = set(extensions)\n",
    "distinct_extensions"
   ]
  },
  {
   "cell_type": "code",
   "execution_count": 76,
   "id": "20518e4f",
   "metadata": {},
   "outputs": [
    {
     "name": "stdout",
     "output_type": "stream",
     "text": [
      "Number of images before bad extension image removal: 40\n",
      "Number of images after bad extension image removal: 39\n"
     ]
    }
   ],
   "source": [
    "# As we have seen above there are bad extensions like  Le Tournoi de lets remove that\n",
    "\n",
    "print(f'Number of images before bad extension image removal: {len(images)}')\n",
    "\n",
    "for file in images:\n",
    "    if file.split('.')[1] == ' Le Tournoi de' :\n",
    "        os.remove(path + file)\n",
    "        \n",
    "images = os.listdir('../data/player_images/patrick_vieira')\n",
    "print(f'Number of images after bad extension image removal: {len(images)}')"
   ]
  },
  {
   "cell_type": "code",
   "execution_count": 77,
   "id": "c1186c8a",
   "metadata": {},
   "outputs": [
    {
     "data": {
      "text/plain": [
       "{'com', 'jpeg', 'jpg', 'png'}"
      ]
     },
     "execution_count": 77,
     "metadata": {},
     "output_type": "execute_result"
    }
   ],
   "source": [
    "# Finding out all the extension and see if there are some unusual extension while downoading\n",
    "\n",
    "extensions = []\n",
    "images = os.listdir('../data/player_images/thierry_henry')\n",
    "path = '../data/player_images/thierry_henry/'\n",
    "for file in images:    \n",
    "    extensions.append(file.split('.')[1])\n",
    "distinct_extensions = set(extensions)\n",
    "distinct_extensions"
   ]
  },
  {
   "cell_type": "code",
   "execution_count": 78,
   "id": "c9cea461",
   "metadata": {},
   "outputs": [
    {
     "name": "stdout",
     "output_type": "stream",
     "text": [
      "Number of images before bad extension image removal: 45\n",
      "Number of images after bad extension image removal: 44\n"
     ]
    }
   ],
   "source": [
    "# As we have seen above there are bad extensions like com lets remove that\n",
    "\n",
    "print(f'Number of images before bad extension image removal: {len(images)}')\n",
    "\n",
    "for file in images:\n",
    "    if file.split('.')[1] == 'com' :\n",
    "        os.remove(path + file)\n",
    "        \n",
    "images = os.listdir('../data/player_images/thierry_henry')\n",
    "print(f'Number of images after bad extension image removal: {len(images)}')"
   ]
  },
  {
   "cell_type": "code",
   "execution_count": 79,
   "id": "d18c1da2",
   "metadata": {},
   "outputs": [
    {
     "data": {
      "text/plain": [
       "{'html', 'jpeg', 'jpg', 'png', 'webp'}"
      ]
     },
     "execution_count": 79,
     "metadata": {},
     "output_type": "execute_result"
    }
   ],
   "source": [
    "# As we have seen above there are bad extensions like  Le Tournoi de lets remove that\n",
    "\n",
    "extensions = []\n",
    "images = os.listdir('../data/player_images/cristiano_ronaldo')\n",
    "path = '../data/player_images/cristiano_ronaldo/'\n",
    "for file in images:    \n",
    "    extensions.append(file.split('.')[1])\n",
    "distinct_extensions = set(extensions)\n",
    "distinct_extensions"
   ]
  },
  {
   "cell_type": "code",
   "execution_count": 80,
   "id": "3d9bc22b",
   "metadata": {},
   "outputs": [
    {
     "name": "stdout",
     "output_type": "stream",
     "text": [
      "Number of images before bad extension image removal: 60\n",
      "Number of images after bad extension image removal: 59\n"
     ]
    }
   ],
   "source": [
    "# As we have seen above there are bad extensions like html lets remove that\n",
    "\n",
    "print(f'Number of images before bad extension image removal: {len(images)}')\n",
    "\n",
    "for file in images:\n",
    "    if file.split('.')[1] == 'html' :\n",
    "        os.remove(path + file)\n",
    "        \n",
    "images = os.listdir('../data/player_images/cristiano_ronaldo')\n",
    "print(f'Number of images after bad extension image removal: {len(images)}')"
   ]
  }
 ],
 "metadata": {
  "kernelspec": {
   "display_name": "Python 3 (ipykernel)",
   "language": "python",
   "name": "python3"
  },
  "language_info": {
   "codemirror_mode": {
    "name": "ipython",
    "version": 3
   },
   "file_extension": ".py",
   "mimetype": "text/x-python",
   "name": "python",
   "nbconvert_exporter": "python",
   "pygments_lexer": "ipython3",
   "version": "3.9.12"
  }
 },
 "nbformat": 4,
 "nbformat_minor": 5
}
