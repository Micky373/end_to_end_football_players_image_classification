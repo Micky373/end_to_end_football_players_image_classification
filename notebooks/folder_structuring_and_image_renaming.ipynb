{
 "cells": [
  {
   "cell_type": "code",
   "execution_count": 6,
   "id": "e7395dbe",
   "metadata": {},
   "outputs": [
    {
     "name": "stdout",
     "output_type": "stream",
     "text": [
      "Requirement already satisfied: PyWavelets==0.5.2 in /home/micky/anaconda3/lib/python3.9/site-packages (0.5.2)\n",
      "Collecting opencv-python\n",
      "  Downloading opencv_python-4.6.0.66-cp36-abi3-manylinux_2_17_x86_64.manylinux2014_x86_64.whl (60.9 MB)\n",
      "\u001b[K     |████████████████████████████████| 60.9 MB 38 kB/s  eta 0:00:01\n",
      "\u001b[?25hCollecting seaborn==0.8.1\n",
      "  Downloading seaborn-0.8.1.tar.gz (178 kB)\n",
      "\u001b[K     |████████████████████████████████| 178 kB 88 kB/s eta 0:00:01\n",
      "\u001b[?25hRequirement already satisfied: numpy>=1.9.1 in /home/micky/anaconda3/lib/python3.9/site-packages (from PyWavelets==0.5.2) (1.21.5)\n",
      "Building wheels for collected packages: seaborn\n",
      "  Building wheel for seaborn (setup.py) ... \u001b[?25ldone\n",
      "\u001b[?25h  Created wheel for seaborn: filename=seaborn-0.8.1-py3-none-any.whl size=184832 sha256=0e3d769e8d25db9a7380c6cc2380add6786c65bbd0615f91c88200ae38bb092c\n",
      "  Stored in directory: /home/micky/.cache/pip/wheels/a4/54/56/3fe6b7a301785ced23749ab438731e3e4c1ba9cdb3115d7256\n",
      "Successfully built seaborn\n",
      "Installing collected packages: seaborn, opencv-python\n",
      "  Attempting uninstall: seaborn\n",
      "    Found existing installation: seaborn 0.11.2\n",
      "    Uninstalling seaborn-0.11.2:\n",
      "      Successfully uninstalled seaborn-0.11.2\n",
      "Successfully installed opencv-python-4.6.0.66 seaborn-0.8.1\n"
     ]
    }
   ],
   "source": [
    "# Installing some libraries for our image analysis\n",
    "\n",
    "! pip install PyWavelets==0.5.2 opencv-python seaborn==0.8.1"
   ]
  },
  {
   "cell_type": "code",
   "execution_count": 14,
   "id": "b52a1ed0",
   "metadata": {},
   "outputs": [],
   "source": [
    "import os"
   ]
  },
  {
   "cell_type": "code",
   "execution_count": 3,
   "id": "7965cd1c",
   "metadata": {},
   "outputs": [
    {
     "data": {
      "text/plain": [
       "['ronaldinho',\n",
       " 'lionel_messi',\n",
       " 'patrick_vieira',\n",
       " 'thierry_henry',\n",
       " 'cristiano_ronaldo']"
      ]
     },
     "execution_count": 3,
     "metadata": {},
     "output_type": "execute_result"
    }
   ],
   "source": [
    "# Getting folder names for editing the data\n",
    "\n",
    "player_folders = os.listdir('../data/player_images/')\n",
    "player_folders"
   ]
  },
  {
   "cell_type": "code",
   "execution_count": 4,
   "id": "9a01ded9",
   "metadata": {},
   "outputs": [],
   "source": [
    "def find_distinct_extensions(image_file__path):\n",
    "    \n",
    "    extensions = []\n",
    "    images = os.listdir(image_file__path)\n",
    "    \n",
    "    for file in images:    \n",
    "        if file != 'cropped': extensions.append(file.split('.')[1])\n",
    "            \n",
    "    distinct_extensions = set(extensions)\n",
    "    \n",
    "    return distinct_extensions"
   ]
  },
  {
   "cell_type": "code",
   "execution_count": 5,
   "id": "8dc90ceb",
   "metadata": {},
   "outputs": [],
   "source": [
    "'''\n",
    "\n",
    "When downloading the images most of them has name separated by spaces,\n",
    "so I planned to change each name into more convinient names\n",
    "\n",
    "'''\n",
    "\n",
    "for player_folder in player_folders:\n",
    "    player_folder_path = os.listdir('../data/player_images/' + player_folder + '/')\n",
    "    for i,file in enumerate(player_folder_path):\n",
    "        if file != 'cropped':\n",
    "            path = '../data/player_images/' + player_folder + '/'\n",
    "            old_name = path + file\n",
    "            player_name_start_character = player_folder[0]\n",
    "            image_name = f'{player_name_start_character}_{i}'\n",
    "            extension = file.split('.')[1]\n",
    "            extension_name = f'.{extension}'\n",
    "            new_name = path + image_name + extension_name\n",
    "            os.rename(old_name,new_name)"
   ]
  },
  {
   "cell_type": "code",
   "execution_count": 15,
   "id": "c6430179",
   "metadata": {},
   "outputs": [
    {
     "name": "stdout",
     "output_type": "stream",
     "text": [
      "We have 91 images for ronaldinho\n",
      "We have 18 images for lionel_messi\n",
      "We have 63 images for patrick_vieira\n",
      "We have 78 images for thierry_henry\n",
      "We have 33 images for cristiano_ronaldo\n"
     ]
    }
   ],
   "source": [
    "for player in player_folders:\n",
    "    img_dir = '../data/player_images/' + player\n",
    "    print(f'We have {len(os.listdir(img_dir))} images for {player}')"
   ]
  },
  {
   "cell_type": "code",
   "execution_count": 16,
   "id": "164e177a",
   "metadata": {},
   "outputs": [
    {
     "name": "stdout",
     "output_type": "stream",
     "text": [
      "{'jpg', 'jfif', 'png', 'jpeg'}\n"
     ]
    }
   ],
   "source": [
    "# Finding out all the extension and see if there are some unusual extension while downoading\n",
    "\n",
    "print(find_distinct_extensions('../data/player_images/lionel_messi'))"
   ]
  },
  {
   "cell_type": "code",
   "execution_count": 17,
   "id": "6f0e2e77",
   "metadata": {},
   "outputs": [
    {
     "name": "stdout",
     "output_type": "stream",
     "text": [
      "{'jpg', 'png', 'jpeg'}\n"
     ]
    }
   ],
   "source": [
    "# Finding out all the extension and see if there are some unusual extension while downoading\n",
    "\n",
    "print(find_distinct_extensions('../data/player_images/ronaldinho'))"
   ]
  },
  {
   "cell_type": "markdown",
   "id": "0154ed22",
   "metadata": {},
   "source": [
    "> From the above cell we can see all the images has good extension so we can keep all of them"
   ]
  },
  {
   "cell_type": "code",
   "execution_count": 18,
   "id": "2e452d86",
   "metadata": {},
   "outputs": [
    {
     "name": "stdout",
     "output_type": "stream",
     "text": [
      "{'JPG', 'webp', 'jpg', 'png', 'jpeg'}\n"
     ]
    }
   ],
   "source": [
    "# Finding out all the extension and see if there are some unusual extension while downoading\n",
    "\n",
    "print(find_distinct_extensions('../data/player_images/patrick_vieira'))"
   ]
  },
  {
   "cell_type": "code",
   "execution_count": 19,
   "id": "c1186c8a",
   "metadata": {},
   "outputs": [
    {
     "name": "stdout",
     "output_type": "stream",
     "text": [
      "{'jpg', 'png', 'webp', 'jpeg'}\n"
     ]
    }
   ],
   "source": [
    "# Finding out all the extension and see if there are some unusual extension while downoading\n",
    "\n",
    "print(find_distinct_extensions('../data/player_images/thierry_henry'))\n"
   ]
  },
  {
   "cell_type": "code",
   "execution_count": 20,
   "id": "d18c1da2",
   "metadata": {},
   "outputs": [
    {
     "name": "stdout",
     "output_type": "stream",
     "text": [
      "{'jpg', 'png', 'webp', 'jpeg'}\n"
     ]
    }
   ],
   "source": [
    "# As we have seen above there are bad extensions like  Le Tournoi de lets remove that\n",
    "\n",
    "print(find_distinct_extensions('../data/player_images/cristiano_ronaldo'))"
   ]
  }
 ],
 "metadata": {
  "kernelspec": {
   "display_name": "Python 3 (ipykernel)",
   "language": "python",
   "name": "python3"
  },
  "language_info": {
   "codemirror_mode": {
    "name": "ipython",
    "version": 3
   },
   "file_extension": ".py",
   "mimetype": "text/x-python",
   "name": "python",
   "nbconvert_exporter": "python",
   "pygments_lexer": "ipython3",
   "version": "3.9.12"
  }
 },
 "nbformat": 4,
 "nbformat_minor": 5
}
